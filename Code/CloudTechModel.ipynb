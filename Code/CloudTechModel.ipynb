{
 "cells": [
  {
   "cell_type": "code",
   "execution_count": 1,
   "metadata": {},
   "outputs": [],
   "source": [
    "# This Python 3 environment comes with many helpful analytics libraries installed\n",
    "# It is defined by the kaggle/python docker image: https://github.com/kaggle/docker-python\n",
    "# For example, here's several helpful packages to load in \n",
    "\n",
    "import numpy as np # linear algebra\n",
    "import pandas as pd # data processing, CSV file I/O (e.g. pd.read_csv)\n",
    "\n",
    "# Input data files are available in the \"../input/\" directory.\n",
    "# For example, runninga this (by clicking run or pressing Shift+Enter) will list the files in the input directory\n",
    "\n",
    "from subprocess import check_output\n",
    "#print(check_output([\"ls\", \"../input\"]).decode(\"utf8\"))\n",
    "\n",
    "# Any results you write to the current directory are saved as output.\n",
    "\n",
    "import pandas as pd\n",
    "import numpy as np\n",
    "import matplotlib.pyplot as plt\n",
    "import seaborn as sns\n",
    "from sklearn import ensemble, tree, linear_model\n",
    "from sklearn.model_selection import train_test_split, cross_val_score\n",
    "from sklearn.metrics import r2_score, mean_squared_error, make_scorer\n",
    "from sklearn.utils import shuffle\n",
    "from sklearn.preprocessing import StandardScaler\n",
    "from sklearn.linear_model import LinearRegression, RidgeCV, LassoCV, ElasticNetCV\n",
    "\n",
    "%matplotlib inline\n",
    "import warnings\n",
    "warnings.filterwarnings('ignore')"
   ]
  },
  {
   "cell_type": "code",
   "execution_count": 2,
   "metadata": {},
   "outputs": [],
   "source": [
    "train = pd.read_csv(r'C:\\Users\\Sujith\\Google Drive\\DCU\\Cloud Technologies\\Assignment2\\cleaned_file.csv')\n",
    "train = train[train.total_price > 0]"
   ]
  },
  {
   "cell_type": "code",
   "execution_count": 3,
   "metadata": {},
   "outputs": [],
   "source": [
    "dataCols = [\n",
    "'neighbourhood_cleansed'\n",
    ",'property_type'\n",
    ",'room_type'\n",
    ",'beds'\n",
    ",'guests_included'\n",
    ",'amenity_cnt'\n",
    ",'amenities_tv_ind'\n",
    ",'amenities_cable_tv_ind'\n",
    ",'amenities_internet_ind'\n",
    ",'amenities_wifi_ind'\n",
    ",'amenities_kitchen_ind'\n",
    ",'amenities_paid_park_off_ind'\n",
    ",'amenities_free_park_on_ind'\n",
    ",'amenities_heating_ind'\n",
    ",'amenities_family_friendly_ind'\n",
    ",'amenities_washer_ind'\n",
    ",'amenities_dryer_ind'\n",
    ",'amenities_priv_entrance_ind'\n",
    ",'amenities_bathtub_ind'\n",
    ",'amenities_coffee_maker_ind'\n",
    ",'amenities_garden_ind'\n",
    ",'amenities_park_free_street_ind'\n",
    ",'amenities_24hr_checkin_ind'\n",
    ",'amenities_breakfast_ind'\n",
    ",'amenities_smoking_allowed_ind'\n",
    ",'amenities_pets_allowed_ind'\n",
    ",'amenities_en_suite_ind'\n",
    ",'amenities_dishwasher_ind'\n",
    ",'amenities_lockbox_ind'\n",
    ",'amenities_microwave_ind'\n",
    ",'amenities_fridge_ind'\n",
    ",'amenities_oven_ind'\n",
    ",'amenities_stove_ind'\n",
    ",'amenities_balcony_ind'\n",
    ",'amenities_terrace_ind'\n",
    ",'amenities_self_checkin_ind'\n",
    ",'amenities_host_meets_you_ind'\n",
    ",'amenities_air_con_ind'\n",
    "]"
   ]
  },
  {
   "cell_type": "code",
   "execution_count": 4,
   "metadata": {},
   "outputs": [
    {
     "name": "stdout",
     "output_type": "stream",
     "text": [
      "['neighbourhood_cleansed', 'property_type', 'room_type', 'beds', 'guests_included', 'amenity_cnt', 'amenities_tv_ind', 'amenities_cable_tv_ind', 'amenities_internet_ind', 'amenities_wifi_ind', 'amenities_kitchen_ind', 'amenities_paid_park_off_ind', 'amenities_free_park_on_ind', 'amenities_heating_ind', 'amenities_family_friendly_ind', 'amenities_washer_ind', 'amenities_dryer_ind', 'amenities_priv_entrance_ind', 'amenities_bathtub_ind', 'amenities_coffee_maker_ind', 'amenities_garden_ind', 'amenities_park_free_street_ind', 'amenities_24hr_checkin_ind', 'amenities_breakfast_ind', 'amenities_smoking_allowed_ind', 'amenities_pets_allowed_ind', 'amenities_en_suite_ind', 'amenities_dishwasher_ind', 'amenities_lockbox_ind', 'amenities_microwave_ind', 'amenities_fridge_ind', 'amenities_oven_ind', 'amenities_stove_ind', 'amenities_balcony_ind', 'amenities_terrace_ind', 'amenities_self_checkin_ind', 'amenities_host_meets_you_ind', 'amenities_air_con_ind']\n"
     ]
    }
   ],
   "source": [
    "print(dataCols)\n"
   ]
  },
  {
   "cell_type": "code",
   "execution_count": 5,
   "metadata": {},
   "outputs": [
    {
     "name": "stdout",
     "output_type": "stream",
     "text": [
      "Index(['neighbourhood_cleansed', 'property_type', 'room_type'], dtype='object')\n",
      "NAs for numerical features in train : 12\n",
      "Remaining NAs for numerical features in train : 0\n",
      "beds                      12\n",
      "review_scores_rating    1511\n",
      "dtype: int64\n",
      "review_scores_rating    1511\n",
      "dtype: int64\n"
     ]
    }
   ],
   "source": [
    "categorical_features = train[dataCols].select_dtypes(include = [\"object\"]).columns\n",
    "numerical_features = train[dataCols].select_dtypes(exclude = [\"object\"]).columns\n",
    "#numerical_features = numerical_features.drop(\"total_price\")\n",
    "print(categorical_features)\n",
    "train_num = train[numerical_features]\n",
    "train_cat = train[categorical_features]\n",
    "\n",
    "# Handle remaining missing values for numerical features by using median as replacement\n",
    "print(\"NAs for numerical features in train : \" + str(train_num.isnull().values.sum()))\n",
    "train_num = train_num.fillna(train_num.median())\n",
    "print(\"Remaining NAs for numerical features in train : \" + str(train_num.isnull().values.sum()))\n",
    "\n",
    "train_nas = train.isnull().sum()\n",
    "train_nas = train_nas[train_nas>0]\n",
    "train_nas.sort_values(ascending=False)\n",
    "print(train_nas)\n",
    "\n",
    "train_cat = pd.get_dummies(train_cat)\n",
    "train2 = pd.concat([train_cat,train_num],axis=1)\n",
    "\n",
    "train2.shape\n",
    "train['beds'] = train['beds'].fillna(train['beds'].median())\n",
    "train_nas = train.isnull().sum()\n",
    "train_nas = train_nas[train_nas>0]\n",
    "train_nas.sort_values(ascending=False)\n",
    "print(train_nas)"
   ]
  },
  {
   "cell_type": "code",
   "execution_count": 6,
   "metadata": {},
   "outputs": [
    {
     "data": {
      "text/plain": [
       "((7576, 76), (1894, 76), (7576,), (1894,))"
      ]
     },
     "execution_count": 6,
     "metadata": {},
     "output_type": "execute_result"
    }
   ],
   "source": [
    "#split the data to train the model \n",
    "\n",
    "X_train,X_test,y_train,y_test = train_test_split(train2,train['total_price'],test_size = 0.2,random_state= 0)\n",
    "\n",
    "X_train.shape,X_test.shape,y_train.shape,y_test.shape\n",
    "#X_train.head(3)"
   ]
  },
  {
   "cell_type": "code",
   "execution_count": 7,
   "metadata": {},
   "outputs": [
    {
     "data": {
      "text/plain": [
       "8046    150.0\n",
       "7401    129.0\n",
       "7011    160.0\n",
       "Name: total_price, dtype: float64"
      ]
     },
     "execution_count": 7,
     "metadata": {},
     "output_type": "execute_result"
    }
   ],
   "source": [
    "y_train.head(3)"
   ]
  },
  {
   "cell_type": "code",
   "execution_count": 8,
   "metadata": {},
   "outputs": [],
   "source": [
    "#defining cross validation\n",
    "n_folds = 5\n",
    "from sklearn.metrics import make_scorer\n",
    "from sklearn.model_selection import KFold\n",
    "scorer = make_scorer(mean_squared_error,greater_is_better = False)\n",
    "def rmse_CV_train(model):\n",
    "    kf = KFold(n_folds,shuffle=True,random_state=42).get_n_splits(train.values)\n",
    "    rmse = np.sqrt(-cross_val_score(model,X_train,y_train,scoring =\"neg_mean_squared_error\",cv=kf))\n",
    "    return (rmse)\n",
    "def rmse_CV_test(model):\n",
    "    kf = KFold(n_folds,shuffle=True,random_state=42).get_n_splits(train.values)\n",
    "    rmse = np.sqrt(-cross_val_score(model,X_test,y_test,scoring =\"neg_mean_squared_error\",cv=kf))\n",
    "    return (rmse)"
   ]
  },
  {
   "cell_type": "code",
   "execution_count": 9,
   "metadata": {},
   "outputs": [
    {
     "name": "stdout",
     "output_type": "stream",
     "text": [
      "rmse on train 312886763983.0\n",
      "rmse on train 7145590632.4\n",
      "[  38.52219582  161.84235954  147.2504673  ...,  187.18473625  339.27552223\n",
      "   27.21256447] 390      70.0\n",
      "6628    135.0\n",
      "6031    120.0\n",
      "4518     60.0\n",
      "9109    330.0\n",
      "2527     60.0\n",
      "1421     30.0\n",
      "4329     90.0\n",
      "6360    130.0\n",
      "4397    135.0\n",
      "4494    180.0\n",
      "6780    125.0\n",
      "9213    266.0\n",
      "6354     55.0\n",
      "2593     85.0\n",
      "9125     50.0\n",
      "6461     55.0\n",
      "9357     47.0\n",
      "272     100.0\n",
      "9231    399.0\n",
      "9278    266.0\n",
      "4138    105.0\n",
      "1067     60.0\n",
      "3221     19.0\n",
      "36       90.0\n",
      "5879    220.0\n",
      "8252     70.0\n",
      "5215     85.0\n",
      "2652    200.0\n",
      "6485     42.0\n",
      "        ...  \n",
      "1715    145.0\n",
      "7338     36.0\n",
      "3518     80.0\n",
      "7779     42.0\n",
      "5659    160.0\n",
      "6434    100.0\n",
      "4069    270.0\n",
      "3705    130.0\n",
      "6405    220.0\n",
      "2868     65.0\n",
      "4288    165.0\n",
      "6152    115.0\n",
      "9218    186.0\n",
      "6498     91.0\n",
      "7711    105.0\n",
      "6341    177.0\n",
      "155     112.0\n",
      "5101     85.0\n",
      "7115    280.0\n",
      "9211     85.0\n",
      "7266    370.0\n",
      "2767    140.0\n",
      "2091    255.0\n",
      "4665    138.0\n",
      "4119    165.0\n",
      "4969    295.0\n",
      "2333     64.0\n",
      "6068    220.0\n",
      "3562    323.0\n",
      "2079     98.0\n",
      "Name: total_price, Length: 1894, dtype: float64\n"
     ]
    }
   ],
   "source": [
    "lr = LinearRegression()\n",
    "lr.fit(X_train,y_train)\n",
    "test_pre = lr.predict(X_test)\n",
    "train_pre = lr.predict(X_train)\n",
    "print('rmse on train',rmse_CV_train(lr).mean())\n",
    "print('rmse on train',rmse_CV_test(lr).mean())\n",
    "print(test_pre,y_test)"
   ]
  },
  {
   "cell_type": "code",
   "execution_count": 10,
   "metadata": {},
   "outputs": [
    {
     "data": {
      "image/png": "[encoded data removed]",
      "text/plain": [
       "<matplotlib.figure.Figure at 0x19a42e9fb00>"
      ]
     },
     "metadata": {},
     "output_type": "display_data"
    }
   ],
   "source": [
    "#plot between predicted values and residuals\n",
    "plt.scatter(train_pre, train_pre - y_train, c = \"blue\",  label = \"Training data\")\n",
    "plt.scatter(test_pre,test_pre - y_test, c = \"black\",  label = \"Validation data\")\n",
    "plt.title(\"Linear regression\")\n",
    "plt.xlabel(\"Predicted values\")\n",
    "plt.ylabel(\"Residuals\")\n",
    "plt.legend(loc = \"uppebr left\")\n",
    "plt.hlines(y = 0, xmin = 10.5, xmax = 13.5, color = \"red\")\n",
    "plt.show()"
   ]
  },
  {
   "cell_type": "code",
   "execution_count": 11,
   "metadata": {},
   "outputs": [
    {
     "data": {
      "image/png": "[encoded data removed]",
      "text/plain": [
       "<matplotlib.figure.Figure at 0x19a42e9f588>"
      ]
     },
     "metadata": {},
     "output_type": "display_data"
    }
   ],
   "source": [
    "# Plot predictions - Real values\n",
    "plt.scatter(train_pre, y_train, c = \"blue\",  label = \"Training data\")\n",
    "#plt.scatter(test_pre, y_test, c = \"black\",  label = \"Validation data\")\n",
    "plt.title(\"Linear regression\")\n",
    "plt.xlabel(\"Predicted values\")\n",
    "plt.ylabel(\"Real values\")\n",
    "plt.legend(loc = \"upper left\")\n",
    "plt.plot([10.5, 13.5], [10.5, 13.5], c = \"red\")\n",
    "plt.show()"
   ]
  },
  {
   "cell_type": "code",
   "execution_count": 12,
   "metadata": {},
   "outputs": [],
   "source": [
    "from sklearn.linear_model import Lasso"
   ]
  },
  {
   "cell_type": "code",
   "execution_count": 13,
   "metadata": {},
   "outputs": [
    {
     "name": "stdout",
     "output_type": "stream",
     "text": [
      "training score: 0.457963543754\n",
      "test score:  0.45199094409\n",
      "number of features used:  70\n"
     ]
    }
   ],
   "source": [
    "lasso = Lasso(alpha=0.0001, max_iter=10e5)\n",
    "lasso.fit(X_train,y_train)\n",
    "train_score=lasso.score(X_train,y_train)\n",
    "test_score=lasso.score(X_test,y_test)\n",
    "coeff_used = np.sum(lasso.coef_!=0)\n",
    "print (\"training score:\", train_score )\n",
    "print (\"test score: \", test_score)\n",
    "print (\"number of features used: \", coeff_used)"
   ]
  },
  {
   "cell_type": "code",
   "execution_count": null,
   "metadata": {},
   "outputs": [],
   "source": []
  },
  {
   "cell_type": "code",
   "execution_count": 20,
   "metadata": {},
   "outputs": [
    {
     "data": {
      "text/plain": [
       "array([ 228.33473214])"
      ]
     },
     "execution_count": 20,
     "metadata": {},
     "output_type": "execute_result"
    }
   ],
   "source": [
    "lasso.predict(X_train.iloc[[1]])"
   ]
  }
 ],
 "metadata": {
  "kernelspec": {
   "display_name": "Python 3",
   "language": "python",
   "name": "python3"
  },
  "language_info": {
   "codemirror_mode": {
    "name": "ipython",
    "version": 3
   },
   "file_extension": ".py",
   "mimetype": "text/x-python",
   "name": "python",
   "nbconvert_exporter": "python",
   "pygments_lexer": "ipython3",
   "version": "3.6.3"
  }
 },
 "nbformat": 4,
 "nbformat_minor": 2
}
